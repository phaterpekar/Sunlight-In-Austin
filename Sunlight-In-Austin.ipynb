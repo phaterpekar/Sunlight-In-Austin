{
 "cells": [
  {
   "cell_type": "markdown",
   "metadata": {},
   "source": [
    "# Sunlight In Austin (Working through Pandas) "
   ]
  },
  {
   "cell_type": "markdown",
   "metadata": {},
   "source": [
    "Questions to be answered\n",
    "\n",
    "1. On average, how much hotter was everyday in 2011 in comparison with 2010?\n",
    "2. On average, how much hotter is it when the sun is shining?\n",
    "3. Is there a correlation between temperature and visibility?\n",
    "4. What is the fraction of days that are sunny days?\n",
    "5. What is the probability of finding a hotter 2011 day when compared to 2010?"
   ]
  },
  {
   "cell_type": "markdown",
   "metadata": {},
   "source": [
    "## 1. Loading Data\n",
    "\n",
    "    - Dealing with messy data by using the right parameters of pd.read_csv()\n",
    "    - Selecting new column labels using df.columns\n",
    "    - Excluding irrelevant attributes with df.drop()\n",
    "    - Analyzing data types with df.info()"
   ]
  },
  {
   "cell_type": "code",
   "execution_count": 146,
   "metadata": {},
   "outputs": [
    {
     "data": {
      "text/html": [
       "<div>\n",
       "<style>\n",
       "    .dataframe thead tr:only-child th {\n",
       "        text-align: right;\n",
       "    }\n",
       "\n",
       "    .dataframe thead th {\n",
       "        text-align: left;\n",
       "    }\n",
       "\n",
       "    .dataframe tbody tr th {\n",
       "        vertical-align: top;\n",
       "    }\n",
       "</style>\n",
       "<table border=\"1\" class=\"dataframe\">\n",
       "  <thead>\n",
       "    <tr style=\"text-align: right;\">\n",
       "      <th></th>\n",
       "      <th>13904</th>\n",
       "      <th>20110101</th>\n",
       "      <th>0053</th>\n",
       "      <th>12</th>\n",
       "      <th>OVC045</th>\n",
       "      <th></th>\n",
       "      <th>10.00</th>\n",
       "      <th>.1</th>\n",
       "      <th>.2</th>\n",
       "      <th>.3</th>\n",
       "      <th>...</th>\n",
       "      <th>.18</th>\n",
       "      <th>.19</th>\n",
       "      <th>29.95</th>\n",
       "      <th>.20</th>\n",
       "      <th>AA</th>\n",
       "      <th>.21</th>\n",
       "      <th>.22</th>\n",
       "      <th>.23</th>\n",
       "      <th>29.95.1</th>\n",
       "      <th>.24</th>\n",
       "    </tr>\n",
       "  </thead>\n",
       "  <tbody>\n",
       "    <tr>\n",
       "      <th>0</th>\n",
       "      <td>13904</td>\n",
       "      <td>20110101</td>\n",
       "      <td>153</td>\n",
       "      <td>12</td>\n",
       "      <td>OVC049</td>\n",
       "      <td></td>\n",
       "      <td>10.00</td>\n",
       "      <td></td>\n",
       "      <td></td>\n",
       "      <td></td>\n",
       "      <td>...</td>\n",
       "      <td></td>\n",
       "      <td></td>\n",
       "      <td>30.01</td>\n",
       "      <td></td>\n",
       "      <td>AA</td>\n",
       "      <td></td>\n",
       "      <td></td>\n",
       "      <td></td>\n",
       "      <td>30.02</td>\n",
       "      <td></td>\n",
       "    </tr>\n",
       "    <tr>\n",
       "      <th>1</th>\n",
       "      <td>13904</td>\n",
       "      <td>20110101</td>\n",
       "      <td>253</td>\n",
       "      <td>12</td>\n",
       "      <td>OVC060</td>\n",
       "      <td></td>\n",
       "      <td>10.00</td>\n",
       "      <td></td>\n",
       "      <td></td>\n",
       "      <td></td>\n",
       "      <td>...</td>\n",
       "      <td>030</td>\n",
       "      <td></td>\n",
       "      <td>30.01</td>\n",
       "      <td></td>\n",
       "      <td>AA</td>\n",
       "      <td></td>\n",
       "      <td></td>\n",
       "      <td></td>\n",
       "      <td>30.02</td>\n",
       "      <td></td>\n",
       "    </tr>\n",
       "    <tr>\n",
       "      <th>2</th>\n",
       "      <td>13904</td>\n",
       "      <td>20110101</td>\n",
       "      <td>353</td>\n",
       "      <td>12</td>\n",
       "      <td>OVC065</td>\n",
       "      <td></td>\n",
       "      <td>10.00</td>\n",
       "      <td></td>\n",
       "      <td></td>\n",
       "      <td></td>\n",
       "      <td>...</td>\n",
       "      <td></td>\n",
       "      <td></td>\n",
       "      <td>30.03</td>\n",
       "      <td></td>\n",
       "      <td>AA</td>\n",
       "      <td></td>\n",
       "      <td></td>\n",
       "      <td></td>\n",
       "      <td>30.04</td>\n",
       "      <td></td>\n",
       "    </tr>\n",
       "    <tr>\n",
       "      <th>3</th>\n",
       "      <td>13904</td>\n",
       "      <td>20110101</td>\n",
       "      <td>453</td>\n",
       "      <td>12</td>\n",
       "      <td>BKN070</td>\n",
       "      <td></td>\n",
       "      <td>10.00</td>\n",
       "      <td></td>\n",
       "      <td></td>\n",
       "      <td></td>\n",
       "      <td>...</td>\n",
       "      <td></td>\n",
       "      <td></td>\n",
       "      <td>30.04</td>\n",
       "      <td></td>\n",
       "      <td>AA</td>\n",
       "      <td></td>\n",
       "      <td></td>\n",
       "      <td></td>\n",
       "      <td>30.04</td>\n",
       "      <td></td>\n",
       "    </tr>\n",
       "    <tr>\n",
       "      <th>4</th>\n",
       "      <td>13904</td>\n",
       "      <td>20110101</td>\n",
       "      <td>553</td>\n",
       "      <td>12</td>\n",
       "      <td>BKN065</td>\n",
       "      <td></td>\n",
       "      <td>10.00</td>\n",
       "      <td></td>\n",
       "      <td></td>\n",
       "      <td></td>\n",
       "      <td>...</td>\n",
       "      <td>015</td>\n",
       "      <td></td>\n",
       "      <td>30.06</td>\n",
       "      <td></td>\n",
       "      <td>AA</td>\n",
       "      <td></td>\n",
       "      <td></td>\n",
       "      <td></td>\n",
       "      <td>30.06</td>\n",
       "      <td></td>\n",
       "    </tr>\n",
       "  </tbody>\n",
       "</table>\n",
       "<p>5 rows × 44 columns</p>\n",
       "</div>"
      ],
      "text/plain": [
       "   13904  20110101  0053  12  OVC045     10.00  .1  .2  .3 ...   .18  .19  \\\n",
       "0  13904  20110101   153  12  OVC049     10.00             ...              \n",
       "1  13904  20110101   253  12  OVC060     10.00             ...   030        \n",
       "2  13904  20110101   353  12  OVC065     10.00             ...              \n",
       "3  13904  20110101   453  12  BKN070     10.00             ...              \n",
       "4  13904  20110101   553  12  BKN065     10.00             ...   015        \n",
       "\n",
       "   29.95  .20  AA  .21  .22  .23 29.95.1  .24  \n",
       "0  30.01       AA                  30.02       \n",
       "1  30.01       AA                  30.02       \n",
       "2  30.03       AA                  30.04       \n",
       "3  30.04       AA                  30.04       \n",
       "4  30.06       AA                  30.06       \n",
       "\n",
       "[5 rows x 44 columns]"
      ]
     },
     "execution_count": 146,
     "metadata": {},
     "output_type": "execute_result"
    }
   ],
   "source": [
    "import pandas as pd\n",
    "\n",
    "df = pd.read_csv('C:\\\\Datasets\\\\sunlight_austin\\\\2011_Austin_Weather.txt')\n",
    "df.head()\n"
   ]
  },
  {
   "cell_type": "markdown",
   "metadata": {},
   "source": [
    "Looking at the results above we can see there is no header, and thus the columns don't have labels. There is also no obvious index column, since none of the data columns contain a full date or time.\n",
    "\n",
    "So we will start by indicating header='None' in pd.read_csv(). Next, we will use the column_label.txt file to generate a list of strings that will be used as our new columns labels."
   ]
  },
  {
   "cell_type": "code",
   "execution_count": 147,
   "metadata": {
    "scrolled": false
   },
   "outputs": [
    {
     "data": {
      "text/html": [
       "<div>\n",
       "<style>\n",
       "    .dataframe thead tr:only-child th {\n",
       "        text-align: right;\n",
       "    }\n",
       "\n",
       "    .dataframe thead th {\n",
       "        text-align: left;\n",
       "    }\n",
       "\n",
       "    .dataframe tbody tr th {\n",
       "        vertical-align: top;\n",
       "    }\n",
       "</style>\n",
       "<table border=\"1\" class=\"dataframe\">\n",
       "  <thead>\n",
       "    <tr style=\"text-align: right;\">\n",
       "      <th></th>\n",
       "      <th>0</th>\n",
       "      <th>1</th>\n",
       "      <th>2</th>\n",
       "      <th>3</th>\n",
       "      <th>4</th>\n",
       "      <th>5</th>\n",
       "      <th>6</th>\n",
       "      <th>7</th>\n",
       "      <th>8</th>\n",
       "      <th>9</th>\n",
       "      <th>...</th>\n",
       "      <th>34</th>\n",
       "      <th>35</th>\n",
       "      <th>36</th>\n",
       "      <th>37</th>\n",
       "      <th>38</th>\n",
       "      <th>39</th>\n",
       "      <th>40</th>\n",
       "      <th>41</th>\n",
       "      <th>42</th>\n",
       "      <th>43</th>\n",
       "    </tr>\n",
       "  </thead>\n",
       "  <tbody>\n",
       "    <tr>\n",
       "      <th>0</th>\n",
       "      <td>13904</td>\n",
       "      <td>20110101</td>\n",
       "      <td>53</td>\n",
       "      <td>12</td>\n",
       "      <td>OVC045</td>\n",
       "      <td></td>\n",
       "      <td>10.00</td>\n",
       "      <td></td>\n",
       "      <td></td>\n",
       "      <td></td>\n",
       "      <td>...</td>\n",
       "      <td></td>\n",
       "      <td></td>\n",
       "      <td>29.95</td>\n",
       "      <td></td>\n",
       "      <td>AA</td>\n",
       "      <td></td>\n",
       "      <td></td>\n",
       "      <td></td>\n",
       "      <td>29.95</td>\n",
       "      <td></td>\n",
       "    </tr>\n",
       "    <tr>\n",
       "      <th>1</th>\n",
       "      <td>13904</td>\n",
       "      <td>20110101</td>\n",
       "      <td>153</td>\n",
       "      <td>12</td>\n",
       "      <td>OVC049</td>\n",
       "      <td></td>\n",
       "      <td>10.00</td>\n",
       "      <td></td>\n",
       "      <td></td>\n",
       "      <td></td>\n",
       "      <td>...</td>\n",
       "      <td></td>\n",
       "      <td></td>\n",
       "      <td>30.01</td>\n",
       "      <td></td>\n",
       "      <td>AA</td>\n",
       "      <td></td>\n",
       "      <td></td>\n",
       "      <td></td>\n",
       "      <td>30.02</td>\n",
       "      <td></td>\n",
       "    </tr>\n",
       "    <tr>\n",
       "      <th>2</th>\n",
       "      <td>13904</td>\n",
       "      <td>20110101</td>\n",
       "      <td>253</td>\n",
       "      <td>12</td>\n",
       "      <td>OVC060</td>\n",
       "      <td></td>\n",
       "      <td>10.00</td>\n",
       "      <td></td>\n",
       "      <td></td>\n",
       "      <td></td>\n",
       "      <td>...</td>\n",
       "      <td>030</td>\n",
       "      <td></td>\n",
       "      <td>30.01</td>\n",
       "      <td></td>\n",
       "      <td>AA</td>\n",
       "      <td></td>\n",
       "      <td></td>\n",
       "      <td></td>\n",
       "      <td>30.02</td>\n",
       "      <td></td>\n",
       "    </tr>\n",
       "    <tr>\n",
       "      <th>3</th>\n",
       "      <td>13904</td>\n",
       "      <td>20110101</td>\n",
       "      <td>353</td>\n",
       "      <td>12</td>\n",
       "      <td>OVC065</td>\n",
       "      <td></td>\n",
       "      <td>10.00</td>\n",
       "      <td></td>\n",
       "      <td></td>\n",
       "      <td></td>\n",
       "      <td>...</td>\n",
       "      <td></td>\n",
       "      <td></td>\n",
       "      <td>30.03</td>\n",
       "      <td></td>\n",
       "      <td>AA</td>\n",
       "      <td></td>\n",
       "      <td></td>\n",
       "      <td></td>\n",
       "      <td>30.04</td>\n",
       "      <td></td>\n",
       "    </tr>\n",
       "    <tr>\n",
       "      <th>4</th>\n",
       "      <td>13904</td>\n",
       "      <td>20110101</td>\n",
       "      <td>453</td>\n",
       "      <td>12</td>\n",
       "      <td>BKN070</td>\n",
       "      <td></td>\n",
       "      <td>10.00</td>\n",
       "      <td></td>\n",
       "      <td></td>\n",
       "      <td></td>\n",
       "      <td>...</td>\n",
       "      <td></td>\n",
       "      <td></td>\n",
       "      <td>30.04</td>\n",
       "      <td></td>\n",
       "      <td>AA</td>\n",
       "      <td></td>\n",
       "      <td></td>\n",
       "      <td></td>\n",
       "      <td>30.04</td>\n",
       "      <td></td>\n",
       "    </tr>\n",
       "  </tbody>\n",
       "</table>\n",
       "<p>5 rows × 44 columns</p>\n",
       "</div>"
      ],
      "text/plain": [
       "      0         1    2   3       4  5      6  7  8  9  ...   34 35     36 37  \\\n",
       "0  13904  20110101   53  12  OVC045     10.00          ...          29.95      \n",
       "1  13904  20110101  153  12  OVC049     10.00          ...          30.01      \n",
       "2  13904  20110101  253  12  OVC060     10.00          ...  030     30.01      \n",
       "3  13904  20110101  353  12  OVC065     10.00          ...          30.03      \n",
       "4  13904  20110101  453  12  BKN070     10.00          ...          30.04      \n",
       "\n",
       "   38 39 40 41     42 43  \n",
       "0  AA           29.95     \n",
       "1  AA           30.02     \n",
       "2  AA           30.02     \n",
       "3  AA           30.04     \n",
       "4  AA           30.04     \n",
       "\n",
       "[5 rows x 44 columns]"
      ]
     },
     "execution_count": 147,
     "metadata": {},
     "output_type": "execute_result"
    }
   ],
   "source": [
    "import pandas as pd\n",
    "\n",
    "df = pd.read_csv('C:\\\\Datasets\\\\sunlight_austin\\\\2011_Austin_Weather.txt',header=None)\n",
    "df.head()"
   ]
  },
  {
   "cell_type": "code",
   "execution_count": 148,
   "metadata": {},
   "outputs": [
    {
     "data": {
      "text/plain": [
       "['Wban',\n",
       " 'date',\n",
       " 'Time',\n",
       " 'StationType',\n",
       " 'sky_condition',\n",
       " 'sky_conditionFlag',\n",
       " 'visibility',\n",
       " 'visibilityFlag',\n",
       " 'wx_and_obst_to_vision',\n",
       " 'wx_and_obst_to_visionFlag',\n",
       " 'dry_bulb_faren',\n",
       " 'dry_bulb_farenFlag',\n",
       " 'dry_bulb_cel',\n",
       " 'dry_bulb_celFlag',\n",
       " 'wet_bulb_faren',\n",
       " 'wet_bulb_farenFlag',\n",
       " 'wet_bulb_cel',\n",
       " 'wet_bulb_celFlag',\n",
       " 'dew_point_faren',\n",
       " 'dew_point_farenFlag',\n",
       " 'dew_point_cel',\n",
       " 'dew_point_celFlag',\n",
       " 'relative_humidity',\n",
       " 'relative_humidityFlag',\n",
       " 'wind_speed',\n",
       " 'wind_speedFlag',\n",
       " 'wind_direction',\n",
       " 'wind_directionFlag',\n",
       " 'value_for_wind_character',\n",
       " 'value_for_wind_characterFlag',\n",
       " 'station_pressure',\n",
       " 'station_pressureFlag',\n",
       " 'pressure_tendency',\n",
       " 'pressure_tendencyFlag',\n",
       " 'presschange',\n",
       " 'presschangeFlag',\n",
       " 'sea_level_pressure',\n",
       " 'sea_level_pressureFlag',\n",
       " 'record_type',\n",
       " 'hourly_precip',\n",
       " 'hourly_precipFlag',\n",
       " 'altimeter',\n",
       " 'altimeterFlag',\n",
       " 'junk']"
      ]
     },
     "execution_count": 148,
     "metadata": {},
     "output_type": "execute_result"
    }
   ],
   "source": [
    "column_labels_list = list(pd.read_csv('C://Datasets//sunlight_austin/column_labels.txt'))\n",
    "column_labels_list"
   ]
  },
  {
   "cell_type": "code",
   "execution_count": 149,
   "metadata": {},
   "outputs": [
    {
     "data": {
      "text/html": [
       "<div>\n",
       "<style>\n",
       "    .dataframe thead tr:only-child th {\n",
       "        text-align: right;\n",
       "    }\n",
       "\n",
       "    .dataframe thead th {\n",
       "        text-align: left;\n",
       "    }\n",
       "\n",
       "    .dataframe tbody tr th {\n",
       "        vertical-align: top;\n",
       "    }\n",
       "</style>\n",
       "<table border=\"1\" class=\"dataframe\">\n",
       "  <thead>\n",
       "    <tr style=\"text-align: right;\">\n",
       "      <th></th>\n",
       "      <th>Wban</th>\n",
       "      <th>date</th>\n",
       "      <th>Time</th>\n",
       "      <th>StationType</th>\n",
       "      <th>sky_condition</th>\n",
       "      <th>sky_conditionFlag</th>\n",
       "      <th>visibility</th>\n",
       "      <th>visibilityFlag</th>\n",
       "      <th>wx_and_obst_to_vision</th>\n",
       "      <th>wx_and_obst_to_visionFlag</th>\n",
       "      <th>...</th>\n",
       "      <th>presschange</th>\n",
       "      <th>presschangeFlag</th>\n",
       "      <th>sea_level_pressure</th>\n",
       "      <th>sea_level_pressureFlag</th>\n",
       "      <th>record_type</th>\n",
       "      <th>hourly_precip</th>\n",
       "      <th>hourly_precipFlag</th>\n",
       "      <th>altimeter</th>\n",
       "      <th>altimeterFlag</th>\n",
       "      <th>junk</th>\n",
       "    </tr>\n",
       "  </thead>\n",
       "  <tbody>\n",
       "    <tr>\n",
       "      <th>0</th>\n",
       "      <td>13904</td>\n",
       "      <td>20110101</td>\n",
       "      <td>53</td>\n",
       "      <td>12</td>\n",
       "      <td>OVC045</td>\n",
       "      <td></td>\n",
       "      <td>10.00</td>\n",
       "      <td></td>\n",
       "      <td></td>\n",
       "      <td></td>\n",
       "      <td>...</td>\n",
       "      <td></td>\n",
       "      <td></td>\n",
       "      <td>29.95</td>\n",
       "      <td></td>\n",
       "      <td>AA</td>\n",
       "      <td></td>\n",
       "      <td></td>\n",
       "      <td></td>\n",
       "      <td>29.95</td>\n",
       "      <td></td>\n",
       "    </tr>\n",
       "    <tr>\n",
       "      <th>1</th>\n",
       "      <td>13904</td>\n",
       "      <td>20110101</td>\n",
       "      <td>153</td>\n",
       "      <td>12</td>\n",
       "      <td>OVC049</td>\n",
       "      <td></td>\n",
       "      <td>10.00</td>\n",
       "      <td></td>\n",
       "      <td></td>\n",
       "      <td></td>\n",
       "      <td>...</td>\n",
       "      <td></td>\n",
       "      <td></td>\n",
       "      <td>30.01</td>\n",
       "      <td></td>\n",
       "      <td>AA</td>\n",
       "      <td></td>\n",
       "      <td></td>\n",
       "      <td></td>\n",
       "      <td>30.02</td>\n",
       "      <td></td>\n",
       "    </tr>\n",
       "    <tr>\n",
       "      <th>2</th>\n",
       "      <td>13904</td>\n",
       "      <td>20110101</td>\n",
       "      <td>253</td>\n",
       "      <td>12</td>\n",
       "      <td>OVC060</td>\n",
       "      <td></td>\n",
       "      <td>10.00</td>\n",
       "      <td></td>\n",
       "      <td></td>\n",
       "      <td></td>\n",
       "      <td>...</td>\n",
       "      <td>030</td>\n",
       "      <td></td>\n",
       "      <td>30.01</td>\n",
       "      <td></td>\n",
       "      <td>AA</td>\n",
       "      <td></td>\n",
       "      <td></td>\n",
       "      <td></td>\n",
       "      <td>30.02</td>\n",
       "      <td></td>\n",
       "    </tr>\n",
       "    <tr>\n",
       "      <th>3</th>\n",
       "      <td>13904</td>\n",
       "      <td>20110101</td>\n",
       "      <td>353</td>\n",
       "      <td>12</td>\n",
       "      <td>OVC065</td>\n",
       "      <td></td>\n",
       "      <td>10.00</td>\n",
       "      <td></td>\n",
       "      <td></td>\n",
       "      <td></td>\n",
       "      <td>...</td>\n",
       "      <td></td>\n",
       "      <td></td>\n",
       "      <td>30.03</td>\n",
       "      <td></td>\n",
       "      <td>AA</td>\n",
       "      <td></td>\n",
       "      <td></td>\n",
       "      <td></td>\n",
       "      <td>30.04</td>\n",
       "      <td></td>\n",
       "    </tr>\n",
       "    <tr>\n",
       "      <th>4</th>\n",
       "      <td>13904</td>\n",
       "      <td>20110101</td>\n",
       "      <td>453</td>\n",
       "      <td>12</td>\n",
       "      <td>BKN070</td>\n",
       "      <td></td>\n",
       "      <td>10.00</td>\n",
       "      <td></td>\n",
       "      <td></td>\n",
       "      <td></td>\n",
       "      <td>...</td>\n",
       "      <td></td>\n",
       "      <td></td>\n",
       "      <td>30.04</td>\n",
       "      <td></td>\n",
       "      <td>AA</td>\n",
       "      <td></td>\n",
       "      <td></td>\n",
       "      <td></td>\n",
       "      <td>30.04</td>\n",
       "      <td></td>\n",
       "    </tr>\n",
       "  </tbody>\n",
       "</table>\n",
       "<p>5 rows × 44 columns</p>\n",
       "</div>"
      ],
      "text/plain": [
       "    Wban      date  Time  StationType sky_condition sky_conditionFlag  \\\n",
       "0  13904  20110101    53           12        OVC045                     \n",
       "1  13904  20110101   153           12        OVC049                     \n",
       "2  13904  20110101   253           12        OVC060                     \n",
       "3  13904  20110101   353           12        OVC065                     \n",
       "4  13904  20110101   453           12        BKN070                     \n",
       "\n",
       "  visibility visibilityFlag wx_and_obst_to_vision wx_and_obst_to_visionFlag  \\\n",
       "0      10.00                                                                  \n",
       "1      10.00                                                                  \n",
       "2      10.00                                                                  \n",
       "3      10.00                                                                  \n",
       "4      10.00                                                                  \n",
       "\n",
       "  ...  presschange presschangeFlag sea_level_pressure sea_level_pressureFlag  \\\n",
       "0 ...                                           29.95                          \n",
       "1 ...                                           30.01                          \n",
       "2 ...          030                              30.01                          \n",
       "3 ...                                           30.03                          \n",
       "4 ...                                           30.04                          \n",
       "\n",
       "  record_type hourly_precip hourly_precipFlag altimeter altimeterFlag junk  \n",
       "0          AA                                                   29.95       \n",
       "1          AA                                                   30.02       \n",
       "2          AA                                                   30.02       \n",
       "3          AA                                                   30.04       \n",
       "4          AA                                                   30.04       \n",
       "\n",
       "[5 rows x 44 columns]"
      ]
     },
     "execution_count": 149,
     "metadata": {},
     "output_type": "execute_result"
    }
   ],
   "source": [
    "df.columns = column_labels_list\n",
    "df.head()"
   ]
  },
  {
   "cell_type": "markdown",
   "metadata": {},
   "source": [
    "### Excluding irrelevant attributes"
   ]
  },
  {
   "cell_type": "markdown",
   "metadata": {},
   "source": [
    " We are working with 44 columns, for our analysis  we only need a fraction of that. So we drop the irrelevant attributes."
   ]
  },
  {
   "cell_type": "code",
   "execution_count": 150,
   "metadata": {
    "collapsed": true
   },
   "outputs": [],
   "source": [
    "list_to_drop = ['sky_conditionFlag',\n",
    " 'visibilityFlag',\n",
    " 'wx_and_obst_to_vision',\n",
    " 'wx_and_obst_to_visionFlag',\n",
    " 'dry_bulb_farenFlag',\n",
    " 'dry_bulb_celFlag',\n",
    " 'wet_bulb_farenFlag',\n",
    " 'wet_bulb_celFlag',\n",
    " 'dew_point_farenFlag',\n",
    " 'dew_point_celFlag',\n",
    " 'relative_humidityFlag',\n",
    " 'wind_speedFlag',\n",
    " 'wind_directionFlag',\n",
    " 'value_for_wind_character',\n",
    " 'value_for_wind_characterFlag',\n",
    " 'station_pressureFlag',\n",
    " 'pressure_tendencyFlag',\n",
    " 'pressure_tendency',\n",
    " 'presschange',\n",
    " 'presschangeFlag',\n",
    " 'sea_level_pressureFlag',\n",
    " 'hourly_precip',\n",
    " 'hourly_precipFlag',\n",
    " 'altimeter',\n",
    " 'record_type',\n",
    " 'altimeterFlag',\n",
    " 'junk']"
   ]
  },
  {
   "cell_type": "code",
   "execution_count": 151,
   "metadata": {},
   "outputs": [
    {
     "data": {
      "text/html": [
       "<div>\n",
       "<style>\n",
       "    .dataframe thead tr:only-child th {\n",
       "        text-align: right;\n",
       "    }\n",
       "\n",
       "    .dataframe thead th {\n",
       "        text-align: left;\n",
       "    }\n",
       "\n",
       "    .dataframe tbody tr th {\n",
       "        vertical-align: top;\n",
       "    }\n",
       "</style>\n",
       "<table border=\"1\" class=\"dataframe\">\n",
       "  <thead>\n",
       "    <tr style=\"text-align: right;\">\n",
       "      <th></th>\n",
       "      <th>Wban</th>\n",
       "      <th>date</th>\n",
       "      <th>Time</th>\n",
       "      <th>StationType</th>\n",
       "      <th>sky_condition</th>\n",
       "      <th>visibility</th>\n",
       "      <th>dry_bulb_faren</th>\n",
       "      <th>dry_bulb_cel</th>\n",
       "      <th>wet_bulb_faren</th>\n",
       "      <th>wet_bulb_cel</th>\n",
       "      <th>dew_point_faren</th>\n",
       "      <th>dew_point_cel</th>\n",
       "      <th>relative_humidity</th>\n",
       "      <th>wind_speed</th>\n",
       "      <th>wind_direction</th>\n",
       "      <th>station_pressure</th>\n",
       "      <th>sea_level_pressure</th>\n",
       "    </tr>\n",
       "  </thead>\n",
       "  <tbody>\n",
       "    <tr>\n",
       "      <th>0</th>\n",
       "      <td>13904</td>\n",
       "      <td>20110101</td>\n",
       "      <td>53</td>\n",
       "      <td>12</td>\n",
       "      <td>OVC045</td>\n",
       "      <td>10.00</td>\n",
       "      <td>51</td>\n",
       "      <td>10.6</td>\n",
       "      <td>38</td>\n",
       "      <td>3.1</td>\n",
       "      <td>15</td>\n",
       "      <td>-9.4</td>\n",
       "      <td>24</td>\n",
       "      <td>15</td>\n",
       "      <td>360</td>\n",
       "      <td>29.42</td>\n",
       "      <td>29.95</td>\n",
       "    </tr>\n",
       "    <tr>\n",
       "      <th>1</th>\n",
       "      <td>13904</td>\n",
       "      <td>20110101</td>\n",
       "      <td>153</td>\n",
       "      <td>12</td>\n",
       "      <td>OVC049</td>\n",
       "      <td>10.00</td>\n",
       "      <td>51</td>\n",
       "      <td>10.6</td>\n",
       "      <td>37</td>\n",
       "      <td>3.0</td>\n",
       "      <td>14</td>\n",
       "      <td>-10.0</td>\n",
       "      <td>23</td>\n",
       "      <td>10</td>\n",
       "      <td>340</td>\n",
       "      <td>29.49</td>\n",
       "      <td>30.01</td>\n",
       "    </tr>\n",
       "    <tr>\n",
       "      <th>2</th>\n",
       "      <td>13904</td>\n",
       "      <td>20110101</td>\n",
       "      <td>253</td>\n",
       "      <td>12</td>\n",
       "      <td>OVC060</td>\n",
       "      <td>10.00</td>\n",
       "      <td>51</td>\n",
       "      <td>10.6</td>\n",
       "      <td>37</td>\n",
       "      <td>2.9</td>\n",
       "      <td>13</td>\n",
       "      <td>-10.6</td>\n",
       "      <td>22</td>\n",
       "      <td>15</td>\n",
       "      <td>010</td>\n",
       "      <td>29.49</td>\n",
       "      <td>30.01</td>\n",
       "    </tr>\n",
       "    <tr>\n",
       "      <th>3</th>\n",
       "      <td>13904</td>\n",
       "      <td>20110101</td>\n",
       "      <td>353</td>\n",
       "      <td>12</td>\n",
       "      <td>OVC065</td>\n",
       "      <td>10.00</td>\n",
       "      <td>50</td>\n",
       "      <td>10.0</td>\n",
       "      <td>38</td>\n",
       "      <td>3.1</td>\n",
       "      <td>17</td>\n",
       "      <td>-8.3</td>\n",
       "      <td>27</td>\n",
       "      <td>7</td>\n",
       "      <td>350</td>\n",
       "      <td>29.51</td>\n",
       "      <td>30.03</td>\n",
       "    </tr>\n",
       "    <tr>\n",
       "      <th>4</th>\n",
       "      <td>13904</td>\n",
       "      <td>20110101</td>\n",
       "      <td>453</td>\n",
       "      <td>12</td>\n",
       "      <td>BKN070</td>\n",
       "      <td>10.00</td>\n",
       "      <td>50</td>\n",
       "      <td>10.0</td>\n",
       "      <td>37</td>\n",
       "      <td>2.8</td>\n",
       "      <td>15</td>\n",
       "      <td>-9.4</td>\n",
       "      <td>25</td>\n",
       "      <td>11</td>\n",
       "      <td>020</td>\n",
       "      <td>29.51</td>\n",
       "      <td>30.04</td>\n",
       "    </tr>\n",
       "  </tbody>\n",
       "</table>\n",
       "</div>"
      ],
      "text/plain": [
       "    Wban      date  Time  StationType sky_condition visibility dry_bulb_faren  \\\n",
       "0  13904  20110101    53           12        OVC045      10.00             51   \n",
       "1  13904  20110101   153           12        OVC049      10.00             51   \n",
       "2  13904  20110101   253           12        OVC060      10.00             51   \n",
       "3  13904  20110101   353           12        OVC065      10.00             50   \n",
       "4  13904  20110101   453           12        BKN070      10.00             50   \n",
       "\n",
       "  dry_bulb_cel wet_bulb_faren wet_bulb_cel dew_point_faren dew_point_cel  \\\n",
       "0         10.6             38          3.1              15          -9.4   \n",
       "1         10.6             37          3.0              14         -10.0   \n",
       "2         10.6             37          2.9              13         -10.6   \n",
       "3         10.0             38          3.1              17          -8.3   \n",
       "4         10.0             37          2.8              15          -9.4   \n",
       "\n",
       "  relative_humidity wind_speed wind_direction station_pressure  \\\n",
       "0                24         15            360            29.42   \n",
       "1                23         10            340            29.49   \n",
       "2                22         15            010            29.49   \n",
       "3                27          7            350            29.51   \n",
       "4                25         11            020            29.51   \n",
       "\n",
       "  sea_level_pressure  \n",
       "0              29.95  \n",
       "1              30.01  \n",
       "2              30.01  \n",
       "3              30.03  \n",
       "4              30.04  "
      ]
     },
     "execution_count": 151,
     "metadata": {},
     "output_type": "execute_result"
    }
   ],
   "source": [
    "df_dropped = df.drop(list_to_drop,axis = 'columns')\n",
    "df_dropped.head()"
   ]
  },
  {
   "cell_type": "code",
   "execution_count": 152,
   "metadata": {},
   "outputs": [
    {
     "name": "stdout",
     "output_type": "stream",
     "text": [
      "<class 'pandas.core.frame.DataFrame'>\n",
      "RangeIndex: 10337 entries, 0 to 10336\n",
      "Data columns (total 17 columns):\n",
      "Wban                  10337 non-null int64\n",
      "date                  10337 non-null int64\n",
      "Time                  10337 non-null int64\n",
      "StationType           10337 non-null int64\n",
      "sky_condition         10337 non-null object\n",
      "visibility            10337 non-null object\n",
      "dry_bulb_faren        10337 non-null object\n",
      "dry_bulb_cel          10337 non-null object\n",
      "wet_bulb_faren        10337 non-null object\n",
      "wet_bulb_cel          10337 non-null object\n",
      "dew_point_faren       10337 non-null object\n",
      "dew_point_cel         10337 non-null object\n",
      "relative_humidity     10337 non-null object\n",
      "wind_speed            10337 non-null object\n",
      "wind_direction        10337 non-null object\n",
      "station_pressure      10337 non-null object\n",
      "sea_level_pressure    10337 non-null object\n",
      "dtypes: int64(4), object(13)\n",
      "memory usage: 1.3+ MB\n"
     ]
    }
   ],
   "source": [
    "df_dropped.info()"
   ]
  },
  {
   "cell_type": "markdown",
   "metadata": {},
   "source": [
    "# Building a Time series index\n",
    "\n",
    "    - Changing data types with df.astype()\n",
    "    - Formatting and creating the time series index with pd.to_datetime() and pd.set_index()\n",
    "    - Checking and specifying missing values ussing parameter errors='coerce' \n",
    "    - Advanced data slicing using time series\n",
    "\n",
    "As shown above we now have a total of 17 columns that are interesting for our analysis. The method df.info() also brings valuable information regarding data types, as you can see both date and time are int64. \n",
    "\n",
    "Since our next step is generating the time series index those attributes will need to be concatenated, which means that we first need to convert their types."
   ]
  },
  {
   "cell_type": "markdown",
   "metadata": {
    "collapsed": true
   },
   "source": [
    "To concatenate date and time to work in a time series index the best strategy is converting to string and then using a string sum to reach something like 'YYYY-MM-DD HH:MM:SS'. Once with this format we use pd.to_datetime() followed by df_dropped.set_index().\n"
   ]
  },
  {
   "cell_type": "code",
   "execution_count": 153,
   "metadata": {},
   "outputs": [
    {
     "data": {
      "text/plain": [
       "0    0053\n",
       "1    0153\n",
       "2    0253\n",
       "3    0353\n",
       "4    0453\n",
       "Name: Time, dtype: object"
      ]
     },
     "execution_count": 153,
     "metadata": {},
     "output_type": "execute_result"
    }
   ],
   "source": [
    "#pd.to_datetime(df.date + df.Time)\n",
    "\n",
    "# Pad leading zeros to the Time column: df_dropped['Time']\n",
    "df_dropped['Time'] = df_dropped['Time'].apply(lambda x:'{:0>4}'.format(x))\n",
    "\n",
    "df_dropped['Time'][0:5]\n"
   ]
  },
  {
   "cell_type": "code",
   "execution_count": 154,
   "metadata": {},
   "outputs": [
    {
     "name": "stdout",
     "output_type": "stream",
     "text": [
      "<class 'pandas.core.frame.DataFrame'>\n",
      "RangeIndex: 10337 entries, 0 to 10336\n",
      "Data columns (total 2 columns):\n",
      "date    10337 non-null object\n",
      "Time    10337 non-null object\n",
      "dtypes: object(2)\n",
      "memory usage: 161.6+ KB\n"
     ]
    }
   ],
   "source": [
    "df_dropped.date = df_dropped.date.astype(str)\n",
    "df_dropped[['date', 'Time']].info()"
   ]
  },
  {
   "cell_type": "code",
   "execution_count": 155,
   "metadata": {
    "collapsed": true
   },
   "outputs": [],
   "source": [
    "# Concatenate the new date and Time columns & format\n",
    "date_times = pd.to_datetime(df_dropped.date + df_dropped.Time,format= '%Y%m%d%H%M')\n"
   ]
  },
  {
   "cell_type": "code",
   "execution_count": 156,
   "metadata": {
    "collapsed": true
   },
   "outputs": [],
   "source": [
    "## Set the index to date_times\n",
    "\n",
    "df_clean = df_dropped.set_index(date_times)\n"
   ]
  },
  {
   "cell_type": "code",
   "execution_count": 157,
   "metadata": {},
   "outputs": [
    {
     "data": {
      "text/html": [
       "<div>\n",
       "<style>\n",
       "    .dataframe thead tr:only-child th {\n",
       "        text-align: right;\n",
       "    }\n",
       "\n",
       "    .dataframe thead th {\n",
       "        text-align: left;\n",
       "    }\n",
       "\n",
       "    .dataframe tbody tr th {\n",
       "        vertical-align: top;\n",
       "    }\n",
       "</style>\n",
       "<table border=\"1\" class=\"dataframe\">\n",
       "  <thead>\n",
       "    <tr style=\"text-align: right;\">\n",
       "      <th></th>\n",
       "      <th>Wban</th>\n",
       "      <th>date</th>\n",
       "      <th>Time</th>\n",
       "      <th>StationType</th>\n",
       "      <th>sky_condition</th>\n",
       "      <th>visibility</th>\n",
       "      <th>dry_bulb_faren</th>\n",
       "      <th>dry_bulb_cel</th>\n",
       "      <th>wet_bulb_faren</th>\n",
       "      <th>wet_bulb_cel</th>\n",
       "      <th>dew_point_faren</th>\n",
       "      <th>dew_point_cel</th>\n",
       "      <th>relative_humidity</th>\n",
       "      <th>wind_speed</th>\n",
       "      <th>wind_direction</th>\n",
       "      <th>station_pressure</th>\n",
       "      <th>sea_level_pressure</th>\n",
       "    </tr>\n",
       "  </thead>\n",
       "  <tbody>\n",
       "    <tr>\n",
       "      <th>2011-01-01 00:53:00</th>\n",
       "      <td>13904</td>\n",
       "      <td>20110101</td>\n",
       "      <td>0053</td>\n",
       "      <td>12</td>\n",
       "      <td>OVC045</td>\n",
       "      <td>10.00</td>\n",
       "      <td>51</td>\n",
       "      <td>10.6</td>\n",
       "      <td>38</td>\n",
       "      <td>3.1</td>\n",
       "      <td>15</td>\n",
       "      <td>-9.4</td>\n",
       "      <td>24</td>\n",
       "      <td>15</td>\n",
       "      <td>360</td>\n",
       "      <td>29.42</td>\n",
       "      <td>29.95</td>\n",
       "    </tr>\n",
       "    <tr>\n",
       "      <th>2011-01-01 01:53:00</th>\n",
       "      <td>13904</td>\n",
       "      <td>20110101</td>\n",
       "      <td>0153</td>\n",
       "      <td>12</td>\n",
       "      <td>OVC049</td>\n",
       "      <td>10.00</td>\n",
       "      <td>51</td>\n",
       "      <td>10.6</td>\n",
       "      <td>37</td>\n",
       "      <td>3.0</td>\n",
       "      <td>14</td>\n",
       "      <td>-10.0</td>\n",
       "      <td>23</td>\n",
       "      <td>10</td>\n",
       "      <td>340</td>\n",
       "      <td>29.49</td>\n",
       "      <td>30.01</td>\n",
       "    </tr>\n",
       "    <tr>\n",
       "      <th>2011-01-01 02:53:00</th>\n",
       "      <td>13904</td>\n",
       "      <td>20110101</td>\n",
       "      <td>0253</td>\n",
       "      <td>12</td>\n",
       "      <td>OVC060</td>\n",
       "      <td>10.00</td>\n",
       "      <td>51</td>\n",
       "      <td>10.6</td>\n",
       "      <td>37</td>\n",
       "      <td>2.9</td>\n",
       "      <td>13</td>\n",
       "      <td>-10.6</td>\n",
       "      <td>22</td>\n",
       "      <td>15</td>\n",
       "      <td>010</td>\n",
       "      <td>29.49</td>\n",
       "      <td>30.01</td>\n",
       "    </tr>\n",
       "    <tr>\n",
       "      <th>2011-01-01 03:53:00</th>\n",
       "      <td>13904</td>\n",
       "      <td>20110101</td>\n",
       "      <td>0353</td>\n",
       "      <td>12</td>\n",
       "      <td>OVC065</td>\n",
       "      <td>10.00</td>\n",
       "      <td>50</td>\n",
       "      <td>10.0</td>\n",
       "      <td>38</td>\n",
       "      <td>3.1</td>\n",
       "      <td>17</td>\n",
       "      <td>-8.3</td>\n",
       "      <td>27</td>\n",
       "      <td>7</td>\n",
       "      <td>350</td>\n",
       "      <td>29.51</td>\n",
       "      <td>30.03</td>\n",
       "    </tr>\n",
       "    <tr>\n",
       "      <th>2011-01-01 04:53:00</th>\n",
       "      <td>13904</td>\n",
       "      <td>20110101</td>\n",
       "      <td>0453</td>\n",
       "      <td>12</td>\n",
       "      <td>BKN070</td>\n",
       "      <td>10.00</td>\n",
       "      <td>50</td>\n",
       "      <td>10.0</td>\n",
       "      <td>37</td>\n",
       "      <td>2.8</td>\n",
       "      <td>15</td>\n",
       "      <td>-9.4</td>\n",
       "      <td>25</td>\n",
       "      <td>11</td>\n",
       "      <td>020</td>\n",
       "      <td>29.51</td>\n",
       "      <td>30.04</td>\n",
       "    </tr>\n",
       "  </tbody>\n",
       "</table>\n",
       "</div>"
      ],
      "text/plain": [
       "                      Wban      date  Time  StationType sky_condition  \\\n",
       "2011-01-01 00:53:00  13904  20110101  0053           12        OVC045   \n",
       "2011-01-01 01:53:00  13904  20110101  0153           12        OVC049   \n",
       "2011-01-01 02:53:00  13904  20110101  0253           12        OVC060   \n",
       "2011-01-01 03:53:00  13904  20110101  0353           12        OVC065   \n",
       "2011-01-01 04:53:00  13904  20110101  0453           12        BKN070   \n",
       "\n",
       "                    visibility dry_bulb_faren dry_bulb_cel wet_bulb_faren  \\\n",
       "2011-01-01 00:53:00      10.00             51         10.6             38   \n",
       "2011-01-01 01:53:00      10.00             51         10.6             37   \n",
       "2011-01-01 02:53:00      10.00             51         10.6             37   \n",
       "2011-01-01 03:53:00      10.00             50         10.0             38   \n",
       "2011-01-01 04:53:00      10.00             50         10.0             37   \n",
       "\n",
       "                    wet_bulb_cel dew_point_faren dew_point_cel  \\\n",
       "2011-01-01 00:53:00          3.1              15          -9.4   \n",
       "2011-01-01 01:53:00          3.0              14         -10.0   \n",
       "2011-01-01 02:53:00          2.9              13         -10.6   \n",
       "2011-01-01 03:53:00          3.1              17          -8.3   \n",
       "2011-01-01 04:53:00          2.8              15          -9.4   \n",
       "\n",
       "                    relative_humidity wind_speed wind_direction  \\\n",
       "2011-01-01 00:53:00                24         15            360   \n",
       "2011-01-01 01:53:00                23         10            340   \n",
       "2011-01-01 02:53:00                22         15            010   \n",
       "2011-01-01 03:53:00                27          7            350   \n",
       "2011-01-01 04:53:00                25         11            020   \n",
       "\n",
       "                    station_pressure sea_level_pressure  \n",
       "2011-01-01 00:53:00            29.42              29.95  \n",
       "2011-01-01 01:53:00            29.49              30.01  \n",
       "2011-01-01 02:53:00            29.49              30.01  \n",
       "2011-01-01 03:53:00            29.51              30.03  \n",
       "2011-01-01 04:53:00            29.51              30.04  "
      ]
     },
     "execution_count": 157,
     "metadata": {},
     "output_type": "execute_result"
    }
   ],
   "source": [
    "df_clean.head()"
   ]
  },
  {
   "cell_type": "markdown",
   "metadata": {},
   "source": [
    "Now we have our date time index for pursuing our analysis & getting insights"
   ]
  },
  {
   "cell_type": "code",
   "execution_count": 158,
   "metadata": {},
   "outputs": [
    {
     "name": "stdout",
     "output_type": "stream",
     "text": [
      "<class 'pandas.core.frame.DataFrame'>\n",
      "DatetimeIndex: 10337 entries, 2011-01-01 00:53:00 to 2011-12-31 23:53:00\n",
      "Data columns (total 17 columns):\n",
      "Wban                  10337 non-null int64\n",
      "date                  10337 non-null object\n",
      "Time                  10337 non-null object\n",
      "StationType           10337 non-null int64\n",
      "sky_condition         10337 non-null object\n",
      "visibility            10337 non-null object\n",
      "dry_bulb_faren        10337 non-null object\n",
      "dry_bulb_cel          10337 non-null object\n",
      "wet_bulb_faren        10337 non-null object\n",
      "wet_bulb_cel          10337 non-null object\n",
      "dew_point_faren       10337 non-null object\n",
      "dew_point_cel         10337 non-null object\n",
      "relative_humidity     10337 non-null object\n",
      "wind_speed            10337 non-null object\n",
      "wind_direction        10337 non-null object\n",
      "station_pressure      10337 non-null object\n",
      "sea_level_pressure    10337 non-null object\n",
      "dtypes: int64(2), object(15)\n",
      "memory usage: 1.4+ MB\n"
     ]
    }
   ],
   "source": [
    "df_clean.info()\n"
   ]
  },
  {
   "cell_type": "code",
   "execution_count": 159,
   "metadata": {},
   "outputs": [
    {
     "name": "stdout",
     "output_type": "stream",
     "text": [
      "2011-06-20 08:27:00     M\n",
      "2011-06-20 08:28:00     M\n",
      "2011-06-20 08:29:00     M\n",
      "2011-06-20 08:30:00     M\n",
      "2011-06-20 08:31:00     M\n",
      "2011-06-20 08:32:00     M\n",
      "2011-06-20 08:33:00     M\n",
      "2011-06-20 08:34:00     M\n",
      "2011-06-20 08:35:00     M\n",
      "2011-06-20 08:53:00    83\n",
      "Name: dry_bulb_faren, dtype: object\n"
     ]
    }
   ],
   "source": [
    "print(df_clean.loc['2011-6-20 8:00:00':'2011-6-20 9:00:00', 'dry_bulb_faren'])"
   ]
  },
  {
   "cell_type": "markdown",
   "metadata": {},
   "source": [
    "### To Check Rows in Data Frame that don't have digits or missing values. Here 'M' seems to represent missing values. Even though .info() method shows all non-null values, a lot of the numeric fields are coded as objects because of string values such as 'M' to denote missing values.\n"
   ]
  },
  {
   "cell_type": "code",
   "execution_count": 160,
   "metadata": {},
   "outputs": [
    {
     "data": {
      "text/plain": [
       "2011-06-20 08:27:00    M\n",
       "2011-06-20 08:28:00    M\n",
       "2011-06-20 08:29:00    M\n",
       "2011-06-20 08:30:00    M\n",
       "2011-06-20 08:31:00    M\n",
       "2011-06-20 08:32:00    M\n",
       "2011-06-20 08:33:00    M\n",
       "2011-06-20 08:34:00    M\n",
       "2011-06-20 08:35:00    M\n",
       "2011-06-25 03:01:00    M\n",
       "2011-06-25 04:28:00    M\n",
       "Name: dry_bulb_faren, dtype: object"
      ]
     },
     "execution_count": 160,
     "metadata": {},
     "output_type": "execute_result"
    }
   ],
   "source": [
    "# for Column 'dry_bulb_faren'\n",
    "# import re\n",
    "bulb_fahr = df_clean['dry_bulb_faren']\n",
    "pattern = '\\d+'\n",
    "mask = bulb_fahr.str.contains(pattern)\n",
    "bulb_fahr[~mask]\n"
   ]
  },
  {
   "cell_type": "code",
   "execution_count": 161,
   "metadata": {},
   "outputs": [
    {
     "data": {
      "text/html": [
       "<div>\n",
       "<style>\n",
       "    .dataframe thead tr:only-child th {\n",
       "        text-align: right;\n",
       "    }\n",
       "\n",
       "    .dataframe thead th {\n",
       "        text-align: left;\n",
       "    }\n",
       "\n",
       "    .dataframe tbody tr th {\n",
       "        vertical-align: top;\n",
       "    }\n",
       "</style>\n",
       "<table border=\"1\" class=\"dataframe\">\n",
       "  <thead>\n",
       "    <tr style=\"text-align: right;\">\n",
       "      <th></th>\n",
       "      <th>Wban</th>\n",
       "      <th>date</th>\n",
       "      <th>Time</th>\n",
       "      <th>StationType</th>\n",
       "      <th>sky_condition</th>\n",
       "      <th>visibility</th>\n",
       "      <th>dry_bulb_faren</th>\n",
       "      <th>dry_bulb_cel</th>\n",
       "      <th>wet_bulb_faren</th>\n",
       "      <th>wet_bulb_cel</th>\n",
       "      <th>dew_point_faren</th>\n",
       "      <th>dew_point_cel</th>\n",
       "      <th>relative_humidity</th>\n",
       "      <th>wind_speed</th>\n",
       "      <th>wind_direction</th>\n",
       "      <th>station_pressure</th>\n",
       "      <th>sea_level_pressure</th>\n",
       "    </tr>\n",
       "  </thead>\n",
       "  <tbody>\n",
       "    <tr>\n",
       "      <th>2011-06-20 08:27:00</th>\n",
       "      <td>13904</td>\n",
       "      <td>20110620</td>\n",
       "      <td>0827</td>\n",
       "      <td>12</td>\n",
       "      <td>M</td>\n",
       "      <td>null</td>\n",
       "      <td>M</td>\n",
       "      <td>M</td>\n",
       "      <td>M</td>\n",
       "      <td>M</td>\n",
       "      <td>M</td>\n",
       "      <td>M</td>\n",
       "      <td>M</td>\n",
       "      <td>M</td>\n",
       "      <td>M</td>\n",
       "      <td>M</td>\n",
       "      <td>M</td>\n",
       "    </tr>\n",
       "    <tr>\n",
       "      <th>2011-06-20 08:28:00</th>\n",
       "      <td>13904</td>\n",
       "      <td>20110620</td>\n",
       "      <td>0828</td>\n",
       "      <td>12</td>\n",
       "      <td>M</td>\n",
       "      <td>null</td>\n",
       "      <td>M</td>\n",
       "      <td>M</td>\n",
       "      <td>M</td>\n",
       "      <td>M</td>\n",
       "      <td>M</td>\n",
       "      <td>M</td>\n",
       "      <td>M</td>\n",
       "      <td>M</td>\n",
       "      <td>M</td>\n",
       "      <td>M</td>\n",
       "      <td>M</td>\n",
       "    </tr>\n",
       "    <tr>\n",
       "      <th>2011-06-20 08:29:00</th>\n",
       "      <td>13904</td>\n",
       "      <td>20110620</td>\n",
       "      <td>0829</td>\n",
       "      <td>12</td>\n",
       "      <td>M</td>\n",
       "      <td>null</td>\n",
       "      <td>M</td>\n",
       "      <td>M</td>\n",
       "      <td>M</td>\n",
       "      <td>M</td>\n",
       "      <td>M</td>\n",
       "      <td>M</td>\n",
       "      <td>M</td>\n",
       "      <td>M</td>\n",
       "      <td>M</td>\n",
       "      <td>M</td>\n",
       "      <td>M</td>\n",
       "    </tr>\n",
       "    <tr>\n",
       "      <th>2011-06-20 08:30:00</th>\n",
       "      <td>13904</td>\n",
       "      <td>20110620</td>\n",
       "      <td>0830</td>\n",
       "      <td>12</td>\n",
       "      <td>M</td>\n",
       "      <td>null</td>\n",
       "      <td>M</td>\n",
       "      <td>M</td>\n",
       "      <td>M</td>\n",
       "      <td>M</td>\n",
       "      <td>M</td>\n",
       "      <td>M</td>\n",
       "      <td>M</td>\n",
       "      <td>M</td>\n",
       "      <td>M</td>\n",
       "      <td>M</td>\n",
       "      <td>M</td>\n",
       "    </tr>\n",
       "    <tr>\n",
       "      <th>2011-06-20 08:31:00</th>\n",
       "      <td>13904</td>\n",
       "      <td>20110620</td>\n",
       "      <td>0831</td>\n",
       "      <td>12</td>\n",
       "      <td>M</td>\n",
       "      <td>null</td>\n",
       "      <td>M</td>\n",
       "      <td>M</td>\n",
       "      <td>M</td>\n",
       "      <td>M</td>\n",
       "      <td>M</td>\n",
       "      <td>M</td>\n",
       "      <td>M</td>\n",
       "      <td>M</td>\n",
       "      <td>M</td>\n",
       "      <td>M</td>\n",
       "      <td>M</td>\n",
       "    </tr>\n",
       "    <tr>\n",
       "      <th>2011-06-20 08:32:00</th>\n",
       "      <td>13904</td>\n",
       "      <td>20110620</td>\n",
       "      <td>0832</td>\n",
       "      <td>12</td>\n",
       "      <td>M</td>\n",
       "      <td>null</td>\n",
       "      <td>M</td>\n",
       "      <td>M</td>\n",
       "      <td>M</td>\n",
       "      <td>M</td>\n",
       "      <td>M</td>\n",
       "      <td>M</td>\n",
       "      <td>M</td>\n",
       "      <td>M</td>\n",
       "      <td>M</td>\n",
       "      <td>M</td>\n",
       "      <td>M</td>\n",
       "    </tr>\n",
       "    <tr>\n",
       "      <th>2011-06-20 08:33:00</th>\n",
       "      <td>13904</td>\n",
       "      <td>20110620</td>\n",
       "      <td>0833</td>\n",
       "      <td>12</td>\n",
       "      <td>M</td>\n",
       "      <td>null</td>\n",
       "      <td>M</td>\n",
       "      <td>M</td>\n",
       "      <td>M</td>\n",
       "      <td>M</td>\n",
       "      <td>M</td>\n",
       "      <td>M</td>\n",
       "      <td>M</td>\n",
       "      <td>M</td>\n",
       "      <td>M</td>\n",
       "      <td>M</td>\n",
       "      <td>M</td>\n",
       "    </tr>\n",
       "    <tr>\n",
       "      <th>2011-06-20 08:34:00</th>\n",
       "      <td>13904</td>\n",
       "      <td>20110620</td>\n",
       "      <td>0834</td>\n",
       "      <td>12</td>\n",
       "      <td>M</td>\n",
       "      <td>null</td>\n",
       "      <td>M</td>\n",
       "      <td>M</td>\n",
       "      <td>M</td>\n",
       "      <td>M</td>\n",
       "      <td>M</td>\n",
       "      <td>M</td>\n",
       "      <td>M</td>\n",
       "      <td>M</td>\n",
       "      <td>M</td>\n",
       "      <td>M</td>\n",
       "      <td>M</td>\n",
       "    </tr>\n",
       "    <tr>\n",
       "      <th>2011-06-20 08:35:00</th>\n",
       "      <td>13904</td>\n",
       "      <td>20110620</td>\n",
       "      <td>0835</td>\n",
       "      <td>12</td>\n",
       "      <td>M</td>\n",
       "      <td>null</td>\n",
       "      <td>M</td>\n",
       "      <td>M</td>\n",
       "      <td>M</td>\n",
       "      <td>M</td>\n",
       "      <td>M</td>\n",
       "      <td>M</td>\n",
       "      <td>M</td>\n",
       "      <td>M</td>\n",
       "      <td>M</td>\n",
       "      <td>M</td>\n",
       "      <td>M</td>\n",
       "    </tr>\n",
       "    <tr>\n",
       "      <th>2011-06-25 03:01:00</th>\n",
       "      <td>13904</td>\n",
       "      <td>20110625</td>\n",
       "      <td>0301</td>\n",
       "      <td>12</td>\n",
       "      <td>SCT014 OVC030</td>\n",
       "      <td>10.00</td>\n",
       "      <td>M</td>\n",
       "      <td>M</td>\n",
       "      <td>M</td>\n",
       "      <td>M</td>\n",
       "      <td>M</td>\n",
       "      <td>M</td>\n",
       "      <td>M</td>\n",
       "      <td>8</td>\n",
       "      <td>170</td>\n",
       "      <td>29.30</td>\n",
       "      <td>M</td>\n",
       "    </tr>\n",
       "    <tr>\n",
       "      <th>2011-06-25 04:28:00</th>\n",
       "      <td>13904</td>\n",
       "      <td>20110625</td>\n",
       "      <td>0428</td>\n",
       "      <td>12</td>\n",
       "      <td>BKN012 OVC036</td>\n",
       "      <td>10.00</td>\n",
       "      <td>M</td>\n",
       "      <td>M</td>\n",
       "      <td>M</td>\n",
       "      <td>M</td>\n",
       "      <td>M</td>\n",
       "      <td>M</td>\n",
       "      <td>M</td>\n",
       "      <td>8</td>\n",
       "      <td>170</td>\n",
       "      <td>29.30</td>\n",
       "      <td>M</td>\n",
       "    </tr>\n",
       "  </tbody>\n",
       "</table>\n",
       "</div>"
      ],
      "text/plain": [
       "                      Wban      date  Time  StationType  sky_condition  \\\n",
       "2011-06-20 08:27:00  13904  20110620  0827           12              M   \n",
       "2011-06-20 08:28:00  13904  20110620  0828           12              M   \n",
       "2011-06-20 08:29:00  13904  20110620  0829           12              M   \n",
       "2011-06-20 08:30:00  13904  20110620  0830           12              M   \n",
       "2011-06-20 08:31:00  13904  20110620  0831           12              M   \n",
       "2011-06-20 08:32:00  13904  20110620  0832           12              M   \n",
       "2011-06-20 08:33:00  13904  20110620  0833           12              M   \n",
       "2011-06-20 08:34:00  13904  20110620  0834           12              M   \n",
       "2011-06-20 08:35:00  13904  20110620  0835           12              M   \n",
       "2011-06-25 03:01:00  13904  20110625  0301           12  SCT014 OVC030   \n",
       "2011-06-25 04:28:00  13904  20110625  0428           12  BKN012 OVC036   \n",
       "\n",
       "                    visibility dry_bulb_faren dry_bulb_cel wet_bulb_faren  \\\n",
       "2011-06-20 08:27:00       null              M            M              M   \n",
       "2011-06-20 08:28:00       null              M            M              M   \n",
       "2011-06-20 08:29:00       null              M            M              M   \n",
       "2011-06-20 08:30:00       null              M            M              M   \n",
       "2011-06-20 08:31:00       null              M            M              M   \n",
       "2011-06-20 08:32:00       null              M            M              M   \n",
       "2011-06-20 08:33:00       null              M            M              M   \n",
       "2011-06-20 08:34:00       null              M            M              M   \n",
       "2011-06-20 08:35:00       null              M            M              M   \n",
       "2011-06-25 03:01:00      10.00              M            M              M   \n",
       "2011-06-25 04:28:00      10.00              M            M              M   \n",
       "\n",
       "                    wet_bulb_cel dew_point_faren dew_point_cel  \\\n",
       "2011-06-20 08:27:00            M               M             M   \n",
       "2011-06-20 08:28:00            M               M             M   \n",
       "2011-06-20 08:29:00            M               M             M   \n",
       "2011-06-20 08:30:00            M               M             M   \n",
       "2011-06-20 08:31:00            M               M             M   \n",
       "2011-06-20 08:32:00            M               M             M   \n",
       "2011-06-20 08:33:00            M               M             M   \n",
       "2011-06-20 08:34:00            M               M             M   \n",
       "2011-06-20 08:35:00            M               M             M   \n",
       "2011-06-25 03:01:00            M               M             M   \n",
       "2011-06-25 04:28:00            M               M             M   \n",
       "\n",
       "                    relative_humidity wind_speed wind_direction  \\\n",
       "2011-06-20 08:27:00                 M          M              M   \n",
       "2011-06-20 08:28:00                 M          M              M   \n",
       "2011-06-20 08:29:00                 M          M              M   \n",
       "2011-06-20 08:30:00                 M          M              M   \n",
       "2011-06-20 08:31:00                 M          M              M   \n",
       "2011-06-20 08:32:00                 M          M              M   \n",
       "2011-06-20 08:33:00                 M          M              M   \n",
       "2011-06-20 08:34:00                 M          M              M   \n",
       "2011-06-20 08:35:00                 M          M              M   \n",
       "2011-06-25 03:01:00                 M          8            170   \n",
       "2011-06-25 04:28:00                 M          8            170   \n",
       "\n",
       "                    station_pressure sea_level_pressure  \n",
       "2011-06-20 08:27:00                M                  M  \n",
       "2011-06-20 08:28:00                M                  M  \n",
       "2011-06-20 08:29:00                M                  M  \n",
       "2011-06-20 08:30:00                M                  M  \n",
       "2011-06-20 08:31:00                M                  M  \n",
       "2011-06-20 08:32:00                M                  M  \n",
       "2011-06-20 08:33:00                M                  M  \n",
       "2011-06-20 08:34:00                M                  M  \n",
       "2011-06-20 08:35:00                M                  M  \n",
       "2011-06-25 03:01:00            29.30                  M  \n",
       "2011-06-25 04:28:00            29.30                  M  "
      ]
     },
     "execution_count": 161,
     "metadata": {},
     "output_type": "execute_result"
    }
   ],
   "source": [
    "df_clean[~mask]"
   ]
  },
  {
   "cell_type": "markdown",
   "metadata": {
    "collapsed": true
   },
   "source": [
    "Since we need many of those attributes to be converted from object to numeric we are going to solve both, missing values and type convertion by using pd.to_numeric() specifying the parameter errors='coerce', this way whenever a convertion error happens, such as string to float, the values is converted to a NaN (np.NaN), representing a missing value.\n",
    "\n",
    "For the purpose of our analysis, only dry_bulb_faren, wind_speed, and dew_point_faren will be converted."
   ]
  },
  {
   "cell_type": "code",
   "execution_count": 162,
   "metadata": {
    "collapsed": true
   },
   "outputs": [],
   "source": [
    "# Converting M's to NaN (M's probably signify missing values)\n",
    "df_clean['dry_bulb_faren'] = pd.to_numeric(df_clean['dry_bulb_faren'], errors = 'coerce')"
   ]
  },
  {
   "cell_type": "code",
   "execution_count": 163,
   "metadata": {},
   "outputs": [
    {
     "name": "stdout",
     "output_type": "stream",
     "text": [
      "2011-06-20 08:27:00     NaN\n",
      "2011-06-20 08:28:00     NaN\n",
      "2011-06-20 08:29:00     NaN\n",
      "2011-06-20 08:30:00     NaN\n",
      "2011-06-20 08:31:00     NaN\n",
      "2011-06-20 08:32:00     NaN\n",
      "2011-06-20 08:33:00     NaN\n",
      "2011-06-20 08:34:00     NaN\n",
      "2011-06-20 08:35:00     NaN\n",
      "2011-06-20 08:53:00    83.0\n",
      "Name: dry_bulb_faren, dtype: float64\n"
     ]
    }
   ],
   "source": [
    "print(df_clean.loc['2011-6-20 8:00:00':'2011-6-20 9:00:00', 'dry_bulb_faren'])\n"
   ]
  },
  {
   "cell_type": "code",
   "execution_count": 164,
   "metadata": {},
   "outputs": [
    {
     "name": "stdout",
     "output_type": "stream",
     "text": [
      "2011-06-20 08:27:00     NaN\n",
      "2011-06-20 08:28:00     NaN\n",
      "2011-06-20 08:29:00     NaN\n",
      "2011-06-20 08:30:00     NaN\n",
      "2011-06-20 08:31:00     NaN\n",
      "2011-06-20 08:32:00     NaN\n",
      "2011-06-20 08:33:00     NaN\n",
      "2011-06-20 08:34:00     NaN\n",
      "2011-06-20 08:35:00     NaN\n",
      "2011-06-20 08:53:00    83.0\n",
      "Name: dry_bulb_faren, dtype: float64\n"
     ]
    }
   ],
   "source": [
    "print(df_clean.loc['2011-6-20 8:00:00':'2011-6-20 9:00:00', 'dry_bulb_faren'])\n"
   ]
  },
  {
   "cell_type": "code",
   "execution_count": 165,
   "metadata": {
    "scrolled": true
   },
   "outputs": [
    {
     "data": {
      "text/plain": [
       " 0    1485\n",
       "10     783\n",
       " 8     754\n",
       " 9     747\n",
       "11     711\n",
       " 7     697\n",
       " 6     679\n",
       " 5     668\n",
       "13     643\n",
       " 3     630\n",
       "14     572\n",
       "15     476\n",
       "16     343\n",
       "17     300\n",
       "18     288\n",
       "20     153\n",
       "21     136\n",
       "22      86\n",
       "23      72\n",
       "24      41\n",
       "25      20\n",
       "M       19\n",
       "26      14\n",
       "28      10\n",
       "29       6\n",
       "30       4\n",
       "Name: wind_speed, dtype: int64"
      ]
     },
     "execution_count": 165,
     "metadata": {},
     "output_type": "execute_result"
    }
   ],
   "source": [
    "df_clean.wind_speed.value_counts()"
   ]
  },
  {
   "cell_type": "code",
   "execution_count": 166,
   "metadata": {
    "collapsed": true
   },
   "outputs": [],
   "source": [
    "# Convert the wind_speed and dew_point_faren columns to numeric values\n",
    "df_clean['wind_speed'] = pd.to_numeric(df_clean['wind_speed'], errors='coerce')\n",
    "df_clean['dew_point_faren'] = pd.to_numeric(df_clean['dew_point_faren'], errors='coerce')"
   ]
  },
  {
   "cell_type": "code",
   "execution_count": 167,
   "metadata": {},
   "outputs": [
    {
     "name": "stdout",
     "output_type": "stream",
     "text": [
      "<class 'pandas.core.frame.DataFrame'>\n",
      "DatetimeIndex: 10337 entries, 2011-01-01 00:53:00 to 2011-12-31 23:53:00\n",
      "Data columns (total 17 columns):\n",
      "Wban                  10337 non-null int64\n",
      "date                  10337 non-null object\n",
      "Time                  10337 non-null object\n",
      "StationType           10337 non-null int64\n",
      "sky_condition         10337 non-null object\n",
      "visibility            10337 non-null object\n",
      "dry_bulb_faren        10326 non-null float64\n",
      "dry_bulb_cel          10337 non-null object\n",
      "wet_bulb_faren        10337 non-null object\n",
      "wet_bulb_cel          10337 non-null object\n",
      "dew_point_faren       10323 non-null float64\n",
      "dew_point_cel         10337 non-null object\n",
      "relative_humidity     10337 non-null object\n",
      "wind_speed            10318 non-null float64\n",
      "wind_direction        10337 non-null object\n",
      "station_pressure      10337 non-null object\n",
      "sea_level_pressure    10337 non-null object\n",
      "dtypes: float64(3), int64(2), object(12)\n",
      "memory usage: 1.7+ MB\n"
     ]
    }
   ],
   "source": [
    "df_clean.info()"
   ]
  },
  {
   "cell_type": "code",
   "execution_count": 168,
   "metadata": {},
   "outputs": [
    {
     "data": {
      "text/html": [
       "<div>\n",
       "<style>\n",
       "    .dataframe thead tr:only-child th {\n",
       "        text-align: right;\n",
       "    }\n",
       "\n",
       "    .dataframe thead th {\n",
       "        text-align: left;\n",
       "    }\n",
       "\n",
       "    .dataframe tbody tr th {\n",
       "        vertical-align: top;\n",
       "    }\n",
       "</style>\n",
       "<table border=\"1\" class=\"dataframe\">\n",
       "  <thead>\n",
       "    <tr style=\"text-align: right;\">\n",
       "      <th></th>\n",
       "      <th>Wban</th>\n",
       "      <th>date</th>\n",
       "      <th>Time</th>\n",
       "      <th>StationType</th>\n",
       "      <th>sky_condition</th>\n",
       "      <th>visibility</th>\n",
       "      <th>dry_bulb_faren</th>\n",
       "      <th>dry_bulb_cel</th>\n",
       "      <th>wet_bulb_faren</th>\n",
       "      <th>wet_bulb_cel</th>\n",
       "      <th>dew_point_faren</th>\n",
       "      <th>dew_point_cel</th>\n",
       "      <th>relative_humidity</th>\n",
       "      <th>wind_speed</th>\n",
       "      <th>wind_direction</th>\n",
       "      <th>station_pressure</th>\n",
       "      <th>sea_level_pressure</th>\n",
       "    </tr>\n",
       "  </thead>\n",
       "  <tbody>\n",
       "    <tr>\n",
       "      <th>2011-01-01 00:53:00</th>\n",
       "      <td>13904</td>\n",
       "      <td>20110101</td>\n",
       "      <td>0053</td>\n",
       "      <td>12</td>\n",
       "      <td>OVC045</td>\n",
       "      <td>10.00</td>\n",
       "      <td>51.0</td>\n",
       "      <td>10.6</td>\n",
       "      <td>38</td>\n",
       "      <td>3.1</td>\n",
       "      <td>15.0</td>\n",
       "      <td>-9.4</td>\n",
       "      <td>24</td>\n",
       "      <td>15.0</td>\n",
       "      <td>360</td>\n",
       "      <td>29.42</td>\n",
       "      <td>29.95</td>\n",
       "    </tr>\n",
       "    <tr>\n",
       "      <th>2011-01-01 01:53:00</th>\n",
       "      <td>13904</td>\n",
       "      <td>20110101</td>\n",
       "      <td>0153</td>\n",
       "      <td>12</td>\n",
       "      <td>OVC049</td>\n",
       "      <td>10.00</td>\n",
       "      <td>51.0</td>\n",
       "      <td>10.6</td>\n",
       "      <td>37</td>\n",
       "      <td>3.0</td>\n",
       "      <td>14.0</td>\n",
       "      <td>-10.0</td>\n",
       "      <td>23</td>\n",
       "      <td>10.0</td>\n",
       "      <td>340</td>\n",
       "      <td>29.49</td>\n",
       "      <td>30.01</td>\n",
       "    </tr>\n",
       "    <tr>\n",
       "      <th>2011-01-01 02:53:00</th>\n",
       "      <td>13904</td>\n",
       "      <td>20110101</td>\n",
       "      <td>0253</td>\n",
       "      <td>12</td>\n",
       "      <td>OVC060</td>\n",
       "      <td>10.00</td>\n",
       "      <td>51.0</td>\n",
       "      <td>10.6</td>\n",
       "      <td>37</td>\n",
       "      <td>2.9</td>\n",
       "      <td>13.0</td>\n",
       "      <td>-10.6</td>\n",
       "      <td>22</td>\n",
       "      <td>15.0</td>\n",
       "      <td>010</td>\n",
       "      <td>29.49</td>\n",
       "      <td>30.01</td>\n",
       "    </tr>\n",
       "    <tr>\n",
       "      <th>2011-01-01 03:53:00</th>\n",
       "      <td>13904</td>\n",
       "      <td>20110101</td>\n",
       "      <td>0353</td>\n",
       "      <td>12</td>\n",
       "      <td>OVC065</td>\n",
       "      <td>10.00</td>\n",
       "      <td>50.0</td>\n",
       "      <td>10.0</td>\n",
       "      <td>38</td>\n",
       "      <td>3.1</td>\n",
       "      <td>17.0</td>\n",
       "      <td>-8.3</td>\n",
       "      <td>27</td>\n",
       "      <td>7.0</td>\n",
       "      <td>350</td>\n",
       "      <td>29.51</td>\n",
       "      <td>30.03</td>\n",
       "    </tr>\n",
       "    <tr>\n",
       "      <th>2011-01-01 04:53:00</th>\n",
       "      <td>13904</td>\n",
       "      <td>20110101</td>\n",
       "      <td>0453</td>\n",
       "      <td>12</td>\n",
       "      <td>BKN070</td>\n",
       "      <td>10.00</td>\n",
       "      <td>50.0</td>\n",
       "      <td>10.0</td>\n",
       "      <td>37</td>\n",
       "      <td>2.8</td>\n",
       "      <td>15.0</td>\n",
       "      <td>-9.4</td>\n",
       "      <td>25</td>\n",
       "      <td>11.0</td>\n",
       "      <td>020</td>\n",
       "      <td>29.51</td>\n",
       "      <td>30.04</td>\n",
       "    </tr>\n",
       "  </tbody>\n",
       "</table>\n",
       "</div>"
      ],
      "text/plain": [
       "                      Wban      date  Time  StationType sky_condition  \\\n",
       "2011-01-01 00:53:00  13904  20110101  0053           12        OVC045   \n",
       "2011-01-01 01:53:00  13904  20110101  0153           12        OVC049   \n",
       "2011-01-01 02:53:00  13904  20110101  0253           12        OVC060   \n",
       "2011-01-01 03:53:00  13904  20110101  0353           12        OVC065   \n",
       "2011-01-01 04:53:00  13904  20110101  0453           12        BKN070   \n",
       "\n",
       "                    visibility  dry_bulb_faren dry_bulb_cel wet_bulb_faren  \\\n",
       "2011-01-01 00:53:00      10.00            51.0         10.6             38   \n",
       "2011-01-01 01:53:00      10.00            51.0         10.6             37   \n",
       "2011-01-01 02:53:00      10.00            51.0         10.6             37   \n",
       "2011-01-01 03:53:00      10.00            50.0         10.0             38   \n",
       "2011-01-01 04:53:00      10.00            50.0         10.0             37   \n",
       "\n",
       "                    wet_bulb_cel  dew_point_faren dew_point_cel  \\\n",
       "2011-01-01 00:53:00          3.1             15.0          -9.4   \n",
       "2011-01-01 01:53:00          3.0             14.0         -10.0   \n",
       "2011-01-01 02:53:00          2.9             13.0         -10.6   \n",
       "2011-01-01 03:53:00          3.1             17.0          -8.3   \n",
       "2011-01-01 04:53:00          2.8             15.0          -9.4   \n",
       "\n",
       "                    relative_humidity  wind_speed wind_direction  \\\n",
       "2011-01-01 00:53:00                24        15.0            360   \n",
       "2011-01-01 01:53:00                23        10.0            340   \n",
       "2011-01-01 02:53:00                22        15.0            010   \n",
       "2011-01-01 03:53:00                27         7.0            350   \n",
       "2011-01-01 04:53:00                25        11.0            020   \n",
       "\n",
       "                    station_pressure sea_level_pressure  \n",
       "2011-01-01 00:53:00            29.42              29.95  \n",
       "2011-01-01 01:53:00            29.49              30.01  \n",
       "2011-01-01 02:53:00            29.49              30.01  \n",
       "2011-01-01 03:53:00            29.51              30.03  \n",
       "2011-01-01 04:53:00            29.51              30.04  "
      ]
     },
     "execution_count": 168,
     "metadata": {},
     "output_type": "execute_result"
    }
   ],
   "source": [
    "df_clean.head()"
   ]
  },
  {
   "cell_type": "markdown",
   "metadata": {},
   "source": [
    "# Statistical EDA \n",
    "\n",
    "    - Downsample data from hours to day using df.resample()\n",
    "    - Getting basic statistics with df.mean()\n",
    "    - Answer Question 1 - On average, how much hotter was everyday in 2011 in comparison with 2010?\n",
    "    - Answer Question 2 - On average, how much hotter is it when the sun is shining?"
   ]
  },
  {
   "cell_type": "markdown",
   "metadata": {},
   "source": [
    "Different ways to query "
   ]
  },
  {
   "cell_type": "code",
   "execution_count": 169,
   "metadata": {},
   "outputs": [
    {
     "name": "stdout",
     "output_type": "stream",
     "text": [
      "72.0\n"
     ]
    }
   ],
   "source": [
    "# Print the median of the dry_bulb_faren column\n",
    "print(df_clean.dry_bulb_faren.median())"
   ]
  },
  {
   "cell_type": "code",
   "execution_count": 170,
   "metadata": {},
   "outputs": [
    {
     "name": "stdout",
     "output_type": "stream",
     "text": [
      "78.0\n"
     ]
    }
   ],
   "source": [
    "# Print the median of the dry_bulb_faren column for the time range '2011-Apr':'2011-Jun'\n",
    "print(df_clean.loc['2011-Apr':'2011-Jun', 'dry_bulb_faren'].median())"
   ]
  },
  {
   "cell_type": "code",
   "execution_count": 171,
   "metadata": {},
   "outputs": [
    {
     "name": "stdout",
     "output_type": "stream",
     "text": [
      "48.0\n"
     ]
    }
   ],
   "source": [
    "# Print the median of the dry_bulb_faren column for the month of January\n",
    "print(df_clean.loc['2011-Jan','dry_bulb_faren'].median())"
   ]
  },
  {
   "cell_type": "markdown",
   "metadata": {},
   "source": [
    "### Importing the 2010 Austin weather data for making comparisons"
   ]
  },
  {
   "cell_type": "code",
   "execution_count": 172,
   "metadata": {
    "scrolled": true
   },
   "outputs": [
    {
     "name": "stdout",
     "output_type": "stream",
     "text": [
      "<class 'pandas.core.frame.DataFrame'>\n",
      "DatetimeIndex: 8759 entries, 2010-01-01 00:00:00 to 2010-12-31 23:00:00\n",
      "Data columns (total 3 columns):\n",
      "Temperature    8759 non-null float64\n",
      "DewPoint       8759 non-null float64\n",
      "Pressure       8759 non-null float64\n",
      "dtypes: float64(3)\n",
      "memory usage: 273.7 KB\n"
     ]
    }
   ],
   "source": [
    "# import 30-year normals of climate data reported in 2010\n",
    "\n",
    "df_climate = pd.read_csv('C://Datasets//sunlight_austin/weather_data_austin_2010.csv',parse_dates= True,index_col='Date')\n",
    "df_climate.info()"
   ]
  },
  {
   "cell_type": "markdown",
   "metadata": {},
   "source": [
    "### Downsample for day base index\n",
    "\n",
    "We already have our tidy data df_clean with time series index, all great. However, the index is hourly based, which is not convenient in case we want to work with monthly averages or even comparison between days. We solve this usign df.resample()."
   ]
  },
  {
   "cell_type": "code",
   "execution_count": 173,
   "metadata": {},
   "outputs": [],
   "source": [
    "# Signal variance\n",
    "# We can ask questions such as, on average, how much hotter was every day in 2011 than expected from the 30-year average?\n",
    "\n",
    "# Downsample df_clean by day and aggregate by mean: daily_mean_2011\n",
    "daily_mean_2011 = df_clean.resample('D').mean()\n",
    "\n",
    "# Extract the dry_bulb_faren column from daily_mean_2011 using .values: daily_temp_2011\n",
    "daily_temp_2011 = daily_mean_2011.dry_bulb_faren.values\n",
    "\n",
    "# Downsample df_climate by day and aggregate by mean: daily_climate\n",
    "daily_climate = df_climate.resample('D').mean()\n",
    "\n",
    "# Extract the Temperature column from daily_climate using .reset_index(): daily_temp_climate\n",
    "daily_temp_climate = daily_climate.reset_index()['Temperature']\n",
    "\n",
    "\n"
   ]
  },
  {
   "cell_type": "markdown",
   "metadata": {},
   "source": [
    "## Question 1 - On average, how much hotter was everyday in 2011 in comparison with 2010?\n",
    "\n",
    "Having both daily temperatures arrays from 2010 and 2011 we calculate the mean() difference to answer Question 1\n",
    "\n",
    "As computed below the average daily temperature was 1.33 higher between 2011 and 2010."
   ]
  },
  {
   "cell_type": "code",
   "execution_count": 174,
   "metadata": {},
   "outputs": [
    {
     "name": "stdout",
     "output_type": "stream",
     "text": [
      "1.3301831870056482\n"
     ]
    }
   ],
   "source": [
    "# Compute the difference between the two arrays and print the mean difference\n",
    "difference = daily_temp_2011 - daily_temp_climate\n",
    "print(difference.mean())\n"
   ]
  },
  {
   "cell_type": "markdown",
   "metadata": {},
   "source": [
    "## Question 2 - On average, how much hotter is it when the sun is shining?\n",
    "\n",
    "Similar analysis from Question 1, however this time we're also considering an extra variable wich is 'sky_condition'. In our data set, CLR stands for sunny days and OVC stands for overcast.\n",
    "\n",
    "As computed below in 2011 sunny days were 6.5 hotter than in 2010."
   ]
  },
  {
   "cell_type": "code",
   "execution_count": 175,
   "metadata": {},
   "outputs": [
    {
     "data": {
      "text/plain": [
       "2011-01-01 00:53:00    OVC045\n",
       "2011-01-01 01:53:00    OVC049\n",
       "2011-01-01 02:53:00    OVC060\n",
       "2011-01-01 03:53:00    OVC065\n",
       "2011-01-01 04:53:00    BKN070\n",
       "Name: sky_condition, dtype: object"
      ]
     },
     "execution_count": 175,
     "metadata": {},
     "output_type": "execute_result"
    }
   ],
   "source": [
    "# Sunny or cloudy\n",
    "# On average, how much hotter is it when the sun is shining? \n",
    "# We will compare temperatures on sunny days against temperatures on overcast days.\n",
    "\n",
    "df_clean['sky_condition'][0:5]"
   ]
  },
  {
   "cell_type": "code",
   "execution_count": 176,
   "metadata": {},
   "outputs": [
    {
     "name": "stdout",
     "output_type": "stream",
     "text": [
      "                      Wban      date  Time  StationType sky_condition  \\\n",
      "2011-01-01 13:53:00  13904  20110101  1353           12           CLR   \n",
      "\n",
      "                    visibility  dry_bulb_faren dry_bulb_cel wet_bulb_faren  \\\n",
      "2011-01-01 13:53:00      10.00            59.0         15.0             45   \n",
      "\n",
      "                    wet_bulb_cel  dew_point_faren dew_point_cel  \\\n",
      "2011-01-01 13:53:00          7.0             26.0          -3.3   \n",
      "\n",
      "                    relative_humidity  wind_speed wind_direction  \\\n",
      "2011-01-01 13:53:00                28        14.0            010   \n",
      "\n",
      "                    station_pressure sea_level_pressure  \n",
      "2011-01-01 13:53:00            29.63              30.16  \n"
     ]
    }
   ],
   "source": [
    "# Select days that are sunny: sunny is 'CLR' while overcast is 'OVC'.\n",
    "sunny = df_clean[df_clean.sky_condition == 'CLR']\n",
    "print(sunny.head(1))"
   ]
  },
  {
   "cell_type": "code",
   "execution_count": 177,
   "metadata": {
    "scrolled": true
   },
   "outputs": [
    {
     "name": "stdout",
     "output_type": "stream",
     "text": [
      "                      Wban      date  Time  StationType sky_condition  \\\n",
      "2011-01-01 00:53:00  13904  20110101  0053           12        OVC045   \n",
      "\n",
      "                    visibility  dry_bulb_faren dry_bulb_cel wet_bulb_faren  \\\n",
      "2011-01-01 00:53:00      10.00            51.0         10.6             38   \n",
      "\n",
      "                    wet_bulb_cel  dew_point_faren dew_point_cel  \\\n",
      "2011-01-01 00:53:00          3.1             15.0          -9.4   \n",
      "\n",
      "                    relative_humidity  wind_speed wind_direction  \\\n",
      "2011-01-01 00:53:00                24        15.0            360   \n",
      "\n",
      "                    station_pressure sea_level_pressure  \n",
      "2011-01-01 00:53:00            29.42              29.95  \n"
     ]
    }
   ],
   "source": [
    "# Select days that are overcast: overcast\n",
    "overcast = df_clean[df_clean.sky_condition.str.contains('OVC')]\n",
    "print(overcast.head(1))"
   ]
  },
  {
   "cell_type": "code",
   "execution_count": 178,
   "metadata": {},
   "outputs": [
    {
     "name": "stdout",
     "output_type": "stream",
     "text": [
      "Wban               0.000000\n",
      "StationType        0.000000\n",
      "dry_bulb_faren     6.504304\n",
      "dew_point_faren   -4.339286\n",
      "wind_speed        -3.246062\n",
      "dtype: float64\n"
     ]
    }
   ],
   "source": [
    "\n",
    "# Resample sunny and overcast, aggregating by maximum daily temperature\n",
    "sunny_daily_max = sunny.resample('D').max()\n",
    "overcast_daily_max = overcast.resample('D').max()\n",
    "\n",
    "# Print the difference between the mean of sunny_daily_max and overcast_daily_max\n",
    "print(sunny_daily_max.mean() - overcast_daily_max.mean())\n"
   ]
  },
  {
   "cell_type": "markdown",
   "metadata": {},
   "source": [
    "# Visual exploratory data analysis\n",
    "\n",
    "    - Answer Question 3 - Is there a correlation between temperature and visibility?\n",
    "    - Good practices for debugging\n",
    "    - Visualizing the correlation\n",
    "    - Visualizing the hotter days (Question 1)\n",
    "    - Seasonal decomposition of hotter days\n",
    "    - Answer Question 4 - What is the fraction of days that are sunny days?\n",
    "    - Answer Question 5 - What is the probability of finding a hotter 2011 day when compared to 2010?"
   ]
  },
  {
   "cell_type": "markdown",
   "metadata": {},
   "source": [
    "## Question 3 - Is there a correlation between temperature and visibility?¶\n",
    "\n",
    "We start extracting both attributes 'visibility' and 'dry_bulb_faren' from 2011 data. Also to give some more df.resample() practice we are going to analyse this in a weekly basis. For the correlation we are computing the Pearson correlation with .corr(), the output from this method will give us results from +1 to -1, the positive one stands for a positive linear correlation and the negative for negative linear correlation, therefore in our case we are looking for the values closer to +1 indicating strong linear correlation.\n",
    "\n",
    "As computed below a 0.49 correlation could be considered a medium correlation between temperature and visibility."
   ]
  },
  {
   "cell_type": "code",
   "execution_count": 179,
   "metadata": {
    "collapsed": true
   },
   "outputs": [],
   "source": [
    "# Import matplotlib.pyplot as plt\n",
    "import matplotlib.pyplot as plt\n",
    "\n",
    "df_clean['visibility'] = pd.to_numeric(df_clean['visibility'], errors = 'coerce')\n"
   ]
  },
  {
   "cell_type": "code",
   "execution_count": 180,
   "metadata": {},
   "outputs": [
    {
     "name": "stdout",
     "output_type": "stream",
     "text": [
      "            visibility  dry_bulb_faren\n",
      "2011-01-02   10.000000       44.791667\n",
      "2011-01-09    8.275785       50.246637\n",
      "2011-01-16    6.451651       41.103774\n",
      "2011-01-23    8.370853       47.194313\n",
      "2011-01-30    9.966851       53.486188\n"
     ]
    }
   ],
   "source": [
    "# Select the visibility and dry_bulb_faren columns and resample them: weekly_mean\n",
    "weekly_mean = df_clean[['visibility','dry_bulb_faren']].resample('W').mean()\n",
    "print(weekly_mean[0:5])"
   ]
  },
  {
   "cell_type": "code",
   "execution_count": 181,
   "metadata": {},
   "outputs": [
    {
     "name": "stdout",
     "output_type": "stream",
     "text": [
      "                visibility  dry_bulb_faren\n",
      "visibility        1.000000        0.490328\n",
      "dry_bulb_faren    0.490328        1.000000\n"
     ]
    }
   ],
   "source": [
    "# Print the output of weekly_mean.corr()\n",
    "print(weekly_mean.corr())"
   ]
  },
  {
   "cell_type": "markdown",
   "metadata": {},
   "source": [
    "### Visualizing the correlation computation?"
   ]
  },
  {
   "cell_type": "code",
   "execution_count": 182,
   "metadata": {},
   "outputs": [
    {
     "data": {
      "image/png": "[encoded data removed]",
      "text/plain": [
       "<Figure size 432x288 with 2 Axes>"
      ]
     },
     "metadata": {},
     "output_type": "display_data"
    }
   ],
   "source": [
    "# Plot weekly_mean with subplots=True\n",
    "weekly_mean.plot(subplots=True)\n",
    "plt.show()"
   ]
  },
  {
   "cell_type": "markdown",
   "metadata": {},
   "source": [
    "## Question 4 - What is the fraction of days that are sunny days?\n",
    "\n",
    "To extract the fraction of sunny days we further evaluate sky_condition for 'CLR' but this time using box plots. The strategy here is using the variable sunny, which is a boolean for containing CLR (review it on Question 2) and add its values, since booleans can be operated as zeros and ones. This will give us the total amount of sunny hours. To get the fraction we need to divide the previous value by the total hours which is found by using a sunny.resample('D').count(). In addition and to clarify the box plot result, we generate a histogram distribution so facilitating comparison.\n",
    "\n",
    "As computed below The median for sunny days is around 18%. As a further information provided by the box plot and histogram comparison 75% of the values are under 40% of sunny days, on histogram higher frequencies on the left side "
   ]
  },
  {
   "cell_type": "code",
   "execution_count": 183,
   "metadata": {
    "collapsed": true
   },
   "outputs": [],
   "source": [
    "# Daily hours of clear sky\n",
    "\n",
    "# Create a Boolean Series for sunny days: sunny\n",
    "sunny = df_clean['sky_condition'] == 'CLR'"
   ]
  },
  {
   "cell_type": "code",
   "execution_count": 184,
   "metadata": {},
   "outputs": [
    {
     "name": "stdout",
     "output_type": "stream",
     "text": [
      "2011-01-01    11.0\n",
      "2011-01-02     7.0\n",
      "2011-01-03     3.0\n",
      "2011-01-04     0.0\n",
      "2011-01-05     1.0\n",
      "Freq: D, Name: sky_condition, dtype: float64\n"
     ]
    }
   ],
   "source": [
    "# Resample the Boolean Series by day and compute the sum: sunny_hours\n",
    "sunny_hours = sunny.resample('D').sum()\n",
    "print(sunny_hours[0:5])"
   ]
  },
  {
   "cell_type": "code",
   "execution_count": 185,
   "metadata": {},
   "outputs": [
    {
     "name": "stdout",
     "output_type": "stream",
     "text": [
      "2011-01-01    24\n",
      "2011-01-02    24\n",
      "2011-01-03    26\n",
      "2011-01-04    49\n",
      "2011-01-05    29\n",
      "Freq: D, Name: sky_condition, dtype: int64\n"
     ]
    }
   ],
   "source": [
    "total_hours = sunny.resample('D').count()\n",
    "print(total_hours[0:5])"
   ]
  },
  {
   "cell_type": "code",
   "execution_count": 186,
   "metadata": {},
   "outputs": [
    {
     "name": "stdout",
     "output_type": "stream",
     "text": [
      "2011-01-01    0.458333\n",
      "2011-01-02    0.291667\n",
      "2011-01-03    0.115385\n",
      "2011-01-04    0.000000\n",
      "2011-01-05    0.034483\n",
      "Freq: D, Name: sky_condition, dtype: float64\n"
     ]
    }
   ],
   "source": [
    "sunny_fraction = sunny_hours / total_hours\n",
    "print(sunny_fraction[0:5])"
   ]
  },
  {
   "cell_type": "code",
   "execution_count": 187,
   "metadata": {},
   "outputs": [
    {
     "data": {
      "image/png": "[encoded data removed]",
      "text/plain": [
       "<Figure size 432x288 with 1 Axes>"
      ]
     },
     "metadata": {},
     "output_type": "display_data"
    }
   ],
   "source": [
    "# Make a box plot of sunny_fraction\n",
    "sunny_fraction.plot(kind='box')\n",
    "plt.show()"
   ]
  },
  {
   "cell_type": "code",
   "execution_count": 188,
   "metadata": {
    "collapsed": true
   },
   "outputs": [],
   "source": [
    "# Heat or humidity\n",
    "# Resample dew_point_faren and dry_bulb_faren by Month, aggregating the maximum values: monthly_max\n",
    "monthly_max = df_clean[['dew_point_faren', 'dry_bulb_faren']].resample('M').max()"
   ]
  },
  {
   "cell_type": "code",
   "execution_count": 189,
   "metadata": {},
   "outputs": [
    {
     "data": {
      "image/png": "[encoded data removed]",
      "text/plain": [
       "<Figure size 432x288 with 2 Axes>"
      ]
     },
     "metadata": {},
     "output_type": "display_data"
    }
   ],
   "source": [
    "# Generate a histogram with bins=8, alpha=0.5, subplots=True\n",
    "monthly_max.plot(kind='hist', bins = 8, alpha = 0.8, subplots= True)\n",
    "\n",
    "# Show the plot\n",
    "plt.show()"
   ]
  },
  {
   "cell_type": "markdown",
   "metadata": {},
   "source": [
    "## Question 4 - What is the fraction of days that are sunny days?\n",
    "\n",
    "We already know that 2011 was hotter than the climate normals for the previous years. In this final question, we compare the maximum temperature in August 2011 against that of the August 2010 climate normals. More specifically, we will use a CDF (Cumulative Distribution Function) plot to determine the probability of the 2011 daily maximum temperature in August being above the 2010 climate normal value.\n",
    "\n",
    "As computed below There is a 50% chance of the 2011 daily maximum temperature in August being 7 degrees above the 2010 climate normal value!"
   ]
  },
  {
   "cell_type": "code",
   "execution_count": 203,
   "metadata": {},
   "outputs": [
    {
     "name": "stdout",
     "output_type": "stream",
     "text": [
      "Max temperature registered in August 2010 was 95.3\n"
     ]
    }
   ],
   "source": [
    "# Extract the maximum temperature in August 2010 from df_climate: august_max\n",
    "august_max = df_climate.loc['2010-Aug','Temperature'].max()\n",
    "print('Max temperature registered in August 2010 was ' + str(august_max))"
   ]
  },
  {
   "cell_type": "code",
   "execution_count": 201,
   "metadata": {},
   "outputs": [
    {
     "name": "stdout",
     "output_type": "stream",
     "text": [
      "Max temperature registered in August 2011 was 110.0\n"
     ]
    }
   ],
   "source": [
    "# Resample August 2011 temps in df_clean by day & aggregate the max value: august_2011\n",
    "august_2011 =  df_clean.loc['2011-Aug','dry_bulb_faren'].resample('D').max()\n",
    "print('Max temperature registered in August 2011 was ' + str(august_2011.max()))"
   ]
  },
  {
   "cell_type": "code",
   "execution_count": 195,
   "metadata": {},
   "outputs": [
    {
     "name": "stderr",
     "output_type": "stream",
     "text": [
      "C:\\ProgramData\\Anaconda3\\lib\\site-packages\\matplotlib\\axes\\_axes.py:6462: UserWarning: The 'normed' kwarg is deprecated, and has been replaced by the 'density' kwarg.\n",
      "  warnings.warn(\"The 'normed' kwarg is deprecated, and has been \"\n"
     ]
    },
    {
     "data": {
      "image/png": "[encoded data removed]",
      "text/plain": [
       "<Figure size 432x288 with 1 Axes>"
      ]
     },
     "metadata": {},
     "output_type": "display_data"
    }
   ],
   "source": [
    "# Filter for days in august_2011 where the value exceeds august_max: august_2011_high\n",
    "august_2011_high = august_2011.loc[august_2011 > august_max]\n",
    "\n",
    "# Construct a CDF of august_2011_high\n",
    "august_2011_high.plot(kind ='hist', normed = True, cumulative = True, bins = 25)\n",
    "\n",
    "# Display the plot\n",
    "plt.title('Cumulative Distribution Function - Probability of hotter day in August 2011')\n",
    "plt.xlabel('Registered Temperature')\n",
    "plt.axhline(y=0.5, color='r', linestyle='-')\n",
    "plt.show()"
   ]
  }
 ],
 "metadata": {
  "kernelspec": {
   "display_name": "Python 3",
   "language": "python",
   "name": "python3"
  },
  "language_info": {
   "codemirror_mode": {
    "name": "ipython",
    "version": 3
   },
   "file_extension": ".py",
   "mimetype": "text/x-python",
   "name": "python",
   "nbconvert_exporter": "python",
   "pygments_lexer": "ipython3",
   "version": "3.6.3"
  }
 },
 "nbformat": 4,
 "nbformat_minor": 2
}
